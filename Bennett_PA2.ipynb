{
 "cells": [
  {
   "cell_type": "markdown",
   "metadata": {},
   "source": [
    "<h3>INFS/BIA 3470 - Spring 2019 - Programming Assignment 2 (PA2)</h3>\n",
    "<p>This programming assignment will focus on extracting information from data sets.  Use the .split() method and/or slicing to help accomplish each task.</p>\n"
   ]
  },
  {
   "cell_type": "markdown",
   "metadata": {},
   "source": [
    "<p><b>(1) 3 pts</b> - Rename this file to be YourLastName_PA2 (use your last name!)</p>"
   ]
  },
  {
   "cell_type": "markdown",
   "metadata": {},
   "source": [
    "<p><b>(2-5) 12 pts</b> - For each of the questions below, try to write the Python code that will extract the specified value from the data set</p>\n",
    "<p>Challenge: Can you do this in a single line of Python?</p>"
   ]
  },
  {
   "cell_type": "code",
   "execution_count": 91,
   "metadata": {},
   "outputs": [
    {
     "name": "stdout",
     "output_type": "stream",
     "text": [
      "Buonaparte\n"
     ]
    }
   ],
   "source": [
    "# (2) Print only the last name in the string below:\n",
    "name = \"Napoleone di Buonaparte\"\n",
    "\n",
    "print(name.split()[2])"
   ]
  },
  {
   "cell_type": "code",
   "execution_count": 92,
   "metadata": {},
   "outputs": [
    {
     "name": "stdout",
     "output_type": "stream",
     "text": [
      "111.1\n"
     ]
    }
   ],
   "source": [
    "# (3) Print the sum of all numbers in the list below:\n",
    "data = [\"A\", 24, \"B\", 13.2, \"C\", 52.4, \"D\", 10.5, \"E\", 11]\n",
    "\n",
    "total = 0\n",
    "for num in data:\n",
    "    try:\n",
    "        total += num\n",
    "    except:\n",
    "        continue\n",
    "print(total)\n",
    "\n"
   ]
  },
  {
   "cell_type": "code",
   "execution_count": 93,
   "metadata": {},
   "outputs": [
    {
     "name": "stdout",
     "output_type": "stream",
     "text": [
      "L\n"
     ]
    }
   ],
   "source": [
    "# (4) Print the first letter of the second name in the string of names below:\n",
    "names = \"Michaelangelo,Leonardo,Raphael,Donatello\"\n",
    "\n",
    "name_List = names.split(',')\n",
    "second = name_List[1][0]\n",
    "print(second)\n"
   ]
  },
  {
   "cell_type": "code",
   "execution_count": 94,
   "metadata": {},
   "outputs": [
    {
     "name": "stdout",
     "output_type": "stream",
     "text": [
      "1962\n"
     ]
    }
   ],
   "source": [
    "# (5) Print the year of the last car in the list of tuples below:\n",
    "garage = [('Camaro', 1967), ('Mustang', 1970), ('Thunderbird', 1956), ('AC Cobra', 1962)]\n",
    "\n",
    "count = 0\n",
    "for item in garage:\n",
    "    count+=1\n",
    "    if count == 4:\n",
    "        print(item[-1])"
   ]
  },
  {
   "cell_type": "markdown",
   "metadata": {},
   "source": [
    "<p><b>(6) 5 pts</b> - Open the file PA2.txt and print the first and last word from the file. Save these results to an output file named YourLastName_output.txt (i.e. 'Murphy_output.txt')</p>"
   ]
  },
  {
   "cell_type": "code",
   "execution_count": 90,
   "metadata": {},
   "outputs": [
    {
     "name": "stdout",
     "output_type": "stream",
     "text": [
      "Full credit?\n"
     ]
    }
   ],
   "source": [
    "# Your code goes here\n",
    "fname = \"PA2.txt\"\n",
    "lines = []\n",
    "file = open(fname,'r')\n",
    "for line in file:\n",
    "    lines.append(line.rstrip('\\\\n'))\n",
    "file.close()\n",
    "\n",
    "first = lines[0]\n",
    "last = lines[-1]\n",
    "print(first.split()[0] + \" \" + last.split()[-1]) \n",
    "\n",
    "new_File = \"Bennett_Output.txt\"\n",
    "fNew = open(new_File,'w')\n",
    "fNew.write(first + \" \" + last)\n",
    "fNew.close()\n"
   ]
  },
  {
   "cell_type": "code",
   "execution_count": null,
   "metadata": {},
   "outputs": [],
   "source": []
  },
  {
   "cell_type": "code",
   "execution_count": null,
   "metadata": {},
   "outputs": [],
   "source": []
  }
 ],
 "metadata": {
  "kernelspec": {
   "display_name": "Python 3",
   "language": "python",
   "name": "python3"
  },
  "language_info": {
   "codemirror_mode": {
    "name": "ipython",
    "version": 3
   },
   "file_extension": ".py",
   "mimetype": "text/x-python",
   "name": "python",
   "nbconvert_exporter": "python",
   "pygments_lexer": "ipython3",
   "version": "3.7.1"
  }
 },
 "nbformat": 4,
 "nbformat_minor": 2
}
