{
 "cells": [
  {
   "cell_type": "markdown",
   "metadata": {},
   "source": [
    "<h3>INFS/BIA 3470 - Spring 2019 - Programming Assignment 1 (PA1)</h3>\n",
    "<p>Our first programming assignment will be a series of short practice exercises.  Please write your Python solution in the cell below each question.</p>\n"
   ]
  },
  {
   "cell_type": "markdown",
   "metadata": {},
   "source": [
    "<p><b>(1) 5 pts</b> - Rename this file to be YourLastName_PA1 (use your last name!)</p>\n"
   ]
  },
  {
   "cell_type": "markdown",
   "metadata": {},
   "source": [
    "<p><b>(2) 5 pts</b> - Prompt the user to enter the cost of their meal.  Next, prompt the user to enter in the percentage amount they wish to tip.  Finally, calculate and print the tip cost and total meal cost.  (Tip cost is equal to meal cost * tip percentage divided by 100.)</p>"
   ]
  },
  {
   "cell_type": "code",
   "execution_count": 8,
   "metadata": {},
   "outputs": [
    {
     "name": "stdout",
     "output_type": "stream",
     "text": [
      "Enter the cost of your meal: 25\n",
      "Enter the percentage amount you wish to tip: 15\n",
      "Cost of Tip:$ 3.75 \n",
      "Cost of Meal:$ 28.75\n"
     ]
    }
   ],
   "source": [
    "# Your solution for (2) below:\n",
    "\n",
    "meal = float(input(\"Enter the cost of your meal: \"))\n",
    "\n",
    "tip = float(input(\"Enter the percentage amount you wish to tip: \"))\n",
    "\n",
    "tipCost = (meal * tip) / 100\n",
    "\n",
    "print(\"Cost of Tip:$\",tipCost,\"\\nCost of Meal:$\",tipCost + meal)\n",
    "\n"
   ]
  },
  {
   "cell_type": "markdown",
   "metadata": {},
   "source": [
    "<p><b>(3) 5 pts</b> - Given a list of quarterback names and 2-digit jersey numbers as a single string value (i.e. Name01), write a Python algorithm that will calculate and display the average jersey number for all names in the list.</p>"
   ]
  },
  {
   "cell_type": "code",
   "execution_count": 9,
   "metadata": {},
   "outputs": [
    {
     "name": "stdout",
     "output_type": "stream",
     "text": [
      "Total Names: 38 \n",
      "Average Jersey Number: 8\n"
     ]
    }
   ],
   "source": [
    "qbs = ['Allen17','Bortles05','Brady12','Brees09','Carr04','Cassel08','Cousins08',\n",
    "         'Dalton14','Fitzpatrick14','Flacco05','Foles09','Garoppalo10','Gilbert03',\n",
    "         'Goff16','Jackson08','Keenum04','Luck12','Mahomes15','Manning10','Mariota08',\n",
    "         'Mayfield06','Mullens04','Newton01','Osweiler08','Prescott04','Rivers17',\n",
    "         'Rodgers12','Roethlisberger07','Rosen03','Ryan02','Smith11','Stafford09',\n",
    "         'Tannehill17','Trubisky10','Watson04','Wentz11','Wilson03','Winston03']\n",
    "\n",
    "# Your solution for (3) below:\n",
    "count = 0\n",
    "total = 0\n",
    "\n",
    "for names in qbs:\n",
    "    nums = int(names[-2:])\n",
    "    total += nums\n",
    "    \n",
    "    count += 1\n",
    "    \n",
    "print (\"Total Names:\",count, \"\\nAverage Jersey Number:\",total//count)\n"
   ]
  },
  {
   "cell_type": "markdown",
   "metadata": {},
   "source": [
    "<p><b>(4) 5 pts</b> - Prompt the user to enter their first name.  Then prompt the user to enter their last name.  Create a password based on these values using the following criteria:</p>\n",
    "<ul><li>The password will be the user's first name, followed by the number of vowels (a,e,i,o, or u) in the first name, followed by the reversed characters of the last name, followed by a symbol</li>\n",
    "    <li>If the number of counted vowels is less than or equal to 2, the added symbol should be a '#' character. Otherwise it should be a '!' character.</li>\n",
    "    <li>Alternate capitalization of each letter in the password, starting with a lower case, then upper, then lower, etc.</li></ul>\n",
    "<p>Example: First name: Leia, Last name: Skywalker, Password: <b><code>lEiA3ReKlAwYkS!</code></b></p>"
   ]
  },
  {
   "cell_type": "code",
   "execution_count": 10,
   "metadata": {},
   "outputs": [
    {
     "name": "stdout",
     "output_type": "stream",
     "text": [
      "Enter your first name: Leia\n",
      "Enter your last name: Skywalker\n",
      "lEiA3ReKlAwYkS!\n"
     ]
    }
   ],
   "source": [
    "# Your solution for (4) below:\n",
    "fName = input(\"Enter your first name: \")\n",
    "lName = input(\"Enter your last name: \")\n",
    "nameReversed = lName[::-1]\n",
    "vowCount = 0\n",
    "count = 0\n",
    "\n",
    "fName2 = ''\n",
    "lName2 = ''\n",
    "\n",
    "for c in fName:\n",
    "    if (c == \"a\") or (c == \"e\") or (c == \"i\") or (c == \"o\") or (c == \"u\"):\n",
    "        vowCount += 1\n",
    "        \n",
    "for c in fName:\n",
    "    count += 1\n",
    "    if count % 2 == 0:\n",
    "        fName2 += c.upper()\n",
    "    else:\n",
    "        fName2 += c.lower()\n",
    "\n",
    "for c in nameReversed:\n",
    "    count += 1\n",
    "    if count % 2 == 0:\n",
    "        lName2 += c.lower()\n",
    "    else:\n",
    "        lName2 += c.upper()\n",
    "        \n",
    "if (vowCount <= 2):\n",
    "    lName2 += \"#\"\n",
    "else:\n",
    "    lName2 += \"!\"\n",
    "\n",
    "print(fName2 + str(vowCount) + lName2)\n",
    "\n",
    "\n",
    "\n",
    "\n",
    "\n",
    "\n",
    "\n",
    "\n",
    "\n",
    "\n",
    "\n"
   ]
  },
  {
   "cell_type": "code",
   "execution_count": null,
   "metadata": {},
   "outputs": [],
   "source": []
  },
  {
   "cell_type": "code",
   "execution_count": null,
   "metadata": {},
   "outputs": [],
   "source": []
  }
 ],
 "metadata": {
  "kernelspec": {
   "display_name": "Python 3",
   "language": "python",
   "name": "python3"
  },
  "language_info": {
   "codemirror_mode": {
    "name": "ipython",
    "version": 3
   },
   "file_extension": ".py",
   "mimetype": "text/x-python",
   "name": "python",
   "nbconvert_exporter": "python",
   "pygments_lexer": "ipython3",
   "version": "3.7.1"
  }
 },
 "nbformat": 4,
 "nbformat_minor": 2
}
